{
 "cells": [
  {
   "cell_type": "markdown",
   "metadata": {},
   "source": [
    "### Understanding and Generating Text with Falcon-7B Language Model\n",
    "This Jupyter Notebook demonstrates how to use the Falcon-7B language model from the Hugging Face Hub to generate text based on a given prompt. Falcon-7B is a large language model trained by Anthropic to understand and generate human-like text.\n",
    "\n",
    "Prerequisites\n",
    "Before running this notebook, make sure you have the following dependencies installed:\n",
    "\n",
    "* os: A Python module for interacting with the operating system.\n",
    "* langchain: A library for building applications with large language models.\n",
    "* langchain_community: A community-driven extension of the Langchain library.\n",
    "* dotenv: A module for loading environment variables from a .env file.\n",
    "\n",
    "\n",
    "You can install the required dependencies using pip command as follows\n",
    "\n",
    "pip install -r requirements.txt"
   ]
  },
  {
   "cell_type": "code",
   "execution_count": 9,
   "metadata": {},
   "outputs": [
    {
     "data": {
      "text/plain": [
       "True"
      ]
     },
     "execution_count": 9,
     "metadata": {},
     "output_type": "execute_result"
    }
   ],
   "source": [
    "import os\n",
    "# Import the os module to interact with the operating system\n",
    "\n",
    "import langchain\n",
    "# Import the langchain library for building applications with large language models\n",
    "\n",
    "from langchain_community.llms import HuggingFaceHub\n",
    "# Import the HuggingFaceHub class from the langchain_community.llms module\n",
    "# This class allows us to use language models hosted on the Hugging Face Hub\n",
    "\n",
    "from dotenv import load_dotenv, find_dotenv\n",
    "# Import the load_dotenv and find_dotenv functions from the dotenv module\n",
    "# load_dotenv is used to load environment variables from a .env file\n",
    "# find_dotenv is used to locate the .env file in the current directory or any parent directories\n",
    "\n",
    "load_dotenv(find_dotenv())\n",
    "# Load the environment variables from the .env file\n",
    "# find_dotenv() locates the .env file in the current directory or any parent directories\n",
    "# load_dotenv() loads the environment variables from the located .env file into the environment\n",
    "# This allows us to securely store and access sensitive information like API keys"
   ]
  },
  {
   "cell_type": "code",
   "execution_count": 7,
   "metadata": {},
   "outputs": [
    {
     "name": "stdout",
     "output_type": "stream",
     "text": [
      "A boy went to school and he \"wasn't feeling well\".\n",
      "The boy was not feeling well.\n"
     ]
    }
   ],
   "source": [
    "# Set up the Hugging Face language model\n",
    "llm = HuggingFaceHub(repo_id=\"tiiuae/falcon-7b-instruct\")\n",
    "# Create an instance of the HuggingFaceHub class\n",
    "# Specify the repo_id parameter as \"tiiuae/falcon-7b-instruct\"\n",
    "# This loads the Falcon-7B language model from the Hugging Face Hub\n",
    "# The Falcon-7B model is a large language model trained by Anthropic\n",
    "\n",
    "# Predict the words following the text in the query\n",
    "# Uncomment the following line to use a different query\n",
    "# query = \"Lazy fox jumps over the lazy dog and it goes to sleep\"\n",
    "query = \"A boy went to school and he \"\n",
    "# Define the query variable with the initial text prompt\n",
    "# The model will generate text that follows this prompt\n",
    "\n",
    "output = llm.invoke(query)\n",
    "# Invoke the language model by calling the invoke() method on the llm object\n",
    "# Pass the query as an argument to the invoke() method\n",
    "# The model will generate text based on the provided query\n",
    "# The generated text will be stored in the output variable\n",
    "\n",
    "print(output)\n",
    "# Print the generated text stored in the output variable\n",
    "# This will display the predicted continuation of the text prompt"
   ]
  },
  {
   "cell_type": "code",
   "execution_count": 8,
   "metadata": {},
   "outputs": [
    {
     "data": {
      "text/plain": [
       "'A boy went to school and he \"wasn\\'t feeling well\".\\nThe boy was not feeling well.'"
      ]
     },
     "execution_count": 8,
     "metadata": {},
     "output_type": "execute_result"
    }
   ],
   "source": [
    "output"
   ]
  },
  {
   "cell_type": "code",
   "execution_count": null,
   "metadata": {},
   "outputs": [],
   "source": []
  }
 ],
 "metadata": {
  "kernelspec": {
   "display_name": ".venv",
   "language": "python",
   "name": "python3"
  },
  "language_info": {
   "codemirror_mode": {
    "name": "ipython",
    "version": 3
   },
   "file_extension": ".py",
   "mimetype": "text/x-python",
   "name": "python",
   "nbconvert_exporter": "python",
   "pygments_lexer": "ipython3",
   "version": "3.11.9"
  }
 },
 "nbformat": 4,
 "nbformat_minor": 2
}
